{
 "cells": [
  {
   "cell_type": "code",
   "execution_count": 1,
   "id": "b8eaa224",
   "metadata": {},
   "outputs": [],
   "source": [
    "import numpy as np\n",
    "import pandas as pd"
   ]
  },
  {
   "cell_type": "code",
   "execution_count": 8,
   "id": "9548c6f8",
   "metadata": {},
   "outputs": [
    {
     "name": "stdout",
     "output_type": "stream",
     "text": [
      "<class 'pandas.core.frame.DataFrame'>\n",
      "Int64Index: 6890 entries, 0 to 16709\n",
      "Data columns (total 20 columns):\n",
      " #   Column                Non-Null Count  Dtype  \n",
      "---  ------                --------------  -----  \n",
      " 0   Name                  6890 non-null   object \n",
      " 1   Platform              6890 non-null   object \n",
      " 2   Year_of_Release       6890 non-null   float64\n",
      " 3   Genre                 6890 non-null   object \n",
      " 4   Publisher             6889 non-null   object \n",
      " 5   NA_Sales              6890 non-null   float64\n",
      " 6   EU_Sales              6890 non-null   float64\n",
      " 7   JP_Sales              6890 non-null   float64\n",
      " 8   Other_Sales           6890 non-null   float64\n",
      " 9   Global_Sales          6890 non-null   float64\n",
      " 10  Critic_Score          6890 non-null   float64\n",
      " 11  Critic_Count          6890 non-null   float64\n",
      " 12  User_Score            6890 non-null   float64\n",
      " 13  User_Count            6890 non-null   float64\n",
      " 14  Developer             6890 non-null   object \n",
      " 15  Rating                6826 non-null   object \n",
      " 16  New_User_Score        6890 non-null   int64  \n",
      " 17  years_since_release   6890 non-null   float64\n",
      " 18  Developer_clas        6890 non-null   int64  \n",
      " 19  Derived_global_sales  6890 non-null   int64  \n",
      "dtypes: float64(11), int64(3), object(6)\n",
      "memory usage: 1.1+ MB\n"
     ]
    }
   ],
   "source": [
    "df = pd.read_csv('Cleaned_derived_data.csv',index_col= 0)\n",
    "df.dropna(subset=['years_since_release'], inplace=True)\n",
    "df.info()"
   ]
  },
  {
   "cell_type": "code",
   "execution_count": 9,
   "id": "a62b6e10",
   "metadata": {},
   "outputs": [],
   "source": [
    "from sklearn import decomposition, datasets\n",
    "from sklearn import tree\n",
    "from sklearn.pipeline import Pipeline\n",
    "from sklearn.model_selection import GridSearchCV\n",
    "from sklearn.preprocessing import StandardScaler"
   ]
  },
  {
   "cell_type": "markdown",
   "id": "5fe5ba8b",
   "metadata": {},
   "source": [
    "### Setting up StandardScaler and PCA, and using PipeLine\n"
   ]
  },
  {
   "cell_type": "code",
   "execution_count": 16,
   "id": "31480d17",
   "metadata": {},
   "outputs": [],
   "source": [
    "X = df[[\"Derived_global_sales\",\"years_since_release\",\"Developer_clas\",\"Critic_Score\"]].values\n",
    "y = df[\"New_User_Score\"]"
   ]
  },
  {
   "cell_type": "code",
   "execution_count": 17,
   "id": "61d03591",
   "metadata": {},
   "outputs": [],
   "source": [
    "std_slc = StandardScaler()\n",
    "pca = decomposition.PCA()\n",
    "dec_tree = tree.DecisionTreeClassifier()\n",
    "\n",
    "pipe = Pipeline(steps=[('std_slc', std_slc),\n",
    "                           ('pca', pca),\n",
    "                           ('dec_tree', dec_tree)])\n",
    "\n",
    "n_components = list(range(1,X.shape[1]+1,1))\n",
    "criterion = ['gini', 'entropy']\n",
    "max_depth = [2,4,6,8,10,12]\n",
    "\n",
    "parameters = dict(pca__n_components=n_components,\n",
    "                      dec_tree__criterion=criterion,\n",
    "                      dec_tree__max_depth=max_depth)"
   ]
  },
  {
   "cell_type": "code",
   "execution_count": 18,
   "id": "3d3f7e66",
   "metadata": {},
   "outputs": [
    {
     "data": {
      "text/plain": [
       "GridSearchCV(estimator=Pipeline(steps=[('std_slc', StandardScaler()),\n",
       "                                       ('pca', PCA()),\n",
       "                                       ('dec_tree', DecisionTreeClassifier())]),\n",
       "             param_grid={'dec_tree__criterion': ['gini', 'entropy'],\n",
       "                         'dec_tree__max_depth': [2, 4, 6, 8, 10, 12],\n",
       "                         'pca__n_components': [1, 2, 3, 4]})"
      ]
     },
     "execution_count": 18,
     "metadata": {},
     "output_type": "execute_result"
    }
   ],
   "source": [
    "# Making an object clf_GS for GridSearch and fitting the data set X and Y\n",
    "clf_GS = GridSearchCV(pipe, parameters)\n",
    "clf_GS.fit(X, y)"
   ]
  },
  {
   "cell_type": "code",
   "execution_count": 19,
   "id": "0b13d140",
   "metadata": {},
   "outputs": [
    {
     "name": "stdout",
     "output_type": "stream",
     "text": [
      "Best Criterion: entropy\n",
      "Best max_depth: 8\n",
      "Best Number Of Components: 4\n",
      "\n",
      "DecisionTreeClassifier(criterion='entropy', max_depth=8)\n"
     ]
    }
   ],
   "source": [
    "print('Best Criterion:', clf_GS.best_estimator_.get_params()['dec_tree__criterion'])\n",
    "print('Best max_depth:', clf_GS.best_estimator_.get_params()['dec_tree__max_depth'])\n",
    "print('Best Number Of Components:', clf_GS.best_estimator_.get_params()['pca__n_components'])\n",
    "print(); print(clf_GS.best_estimator_.get_params()['dec_tree'])"
   ]
  },
  {
   "cell_type": "code",
   "execution_count": 15,
   "id": "e3bb6198",
   "metadata": {},
   "outputs": [
    {
     "name": "stdout",
     "output_type": "stream",
     "text": [
      "[[-0.06053829 -0.00433267 -0.0047642  -0.9981451 ]\n",
      " [ 0.0885531   0.9960232   0.00141929 -0.00970105]\n",
      " [-0.99367782  0.08887817  0.03374192  0.0597205 ]\n",
      " [ 0.03313377 -0.00443578  0.99941822 -0.00676061]]\n"
     ]
    }
   ],
   "source": [
    "pca = decomposition.PCA(n_components=4)\n",
    "pca.fit(X)\n",
    "all_component_loadings = pca.components_\n",
    "print(all_component_loadings)"
   ]
  },
  {
   "cell_type": "code",
   "execution_count": null,
   "id": "51b162af",
   "metadata": {},
   "outputs": [],
   "source": []
  }
 ],
 "metadata": {
  "kernelspec": {
   "display_name": "Python 3 (ipykernel)",
   "language": "python",
   "name": "python3"
  },
  "language_info": {
   "codemirror_mode": {
    "name": "ipython",
    "version": 3
   },
   "file_extension": ".py",
   "mimetype": "text/x-python",
   "name": "python",
   "nbconvert_exporter": "python",
   "pygments_lexer": "ipython3",
   "version": "3.9.13"
  }
 },
 "nbformat": 4,
 "nbformat_minor": 5
}
